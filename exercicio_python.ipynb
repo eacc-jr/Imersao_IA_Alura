{
  "nbformat": 4,
  "nbformat_minor": 0,
  "metadata": {
    "colab": {
      "provenance": [],
      "authorship_tag": "ABX9TyPrMUlVeP7y2OXFhS5VwotV",
      "include_colab_link": true
    },
    "kernelspec": {
      "name": "python3",
      "display_name": "Python 3"
    },
    "language_info": {
      "name": "python"
    }
  },
  "cells": [
    {
      "cell_type": "markdown",
      "metadata": {
        "id": "view-in-github",
        "colab_type": "text"
      },
      "source": [
        "<a href=\"https://colab.research.google.com/github/eacc-jr/fundamentos_python/blob/main/exercicio_python.ipynb\" target=\"_parent\"><img src=\"https://colab.research.google.com/assets/colab-badge.svg\" alt=\"Open In Colab\"/></a>"
      ]
    },
    {
      "cell_type": "code",
      "source": [
        "#Importando o móduo de requisições\n",
        "import requests\n",
        "import random\n",
        "url ='https://raw.githubusercontent.com/guilhermeonrails/api-imersao-ia/main/words.json'\n",
        "#Realizando requisição e armazenando em uma variável transformando no formato JSON\n",
        "resposta = requests.get(url)\n",
        "data = resposta.json()\n",
        "#armazena um valor aleatorio da requisição e o separa em duas variáveis\n",
        "valor_secreto = random.choice(data)\n",
        "palavra_secreta = valor_secreto['palavra']\n",
        "dica = valor_secreto['dica']\n",
        "#Recebe a entrada, trata e valida\n",
        "entrada_usuario = input(f'A palavra secreta tem {len(palavra_secreta)} letras -> {dica} ')\n",
        "chute = entrada_usuario.lower()\n",
        "\n",
        "if chute == palavra_secreta:\n",
        "  print('Parabéns você acertou!')\n",
        "else:\n",
        "  print(f'Que pena você errou, a tecnologia é {palavra_secreta}.')\n",
        "\n"
      ],
      "metadata": {
        "id": "g4jpUpFx5ETK"
      },
      "execution_count": null,
      "outputs": []
    },
    {
      "cell_type": "code",
      "source": [],
      "metadata": {
        "id": "EV5Ys2iNKAeK"
      },
      "execution_count": null,
      "outputs": []
    }
  ]
}